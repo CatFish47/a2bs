{
 "cells": [
  {
   "cell_type": "markdown",
   "id": "dc67b29f-d99c-44ba-aced-c585297c4582",
   "metadata": {},
   "source": [
    "# Audio2Blendshape test notebook"
   ]
  },
  {
   "cell_type": "code",
   "execution_count": 1,
   "id": "6dad080d-ac1f-4bfe-9ecd-113f0a21dfac",
   "metadata": {},
   "outputs": [],
   "source": [
    "import os\n",
    "import numpy as np\n",
    "import matplotlib.pyplot as plt\n",
    "import torch\n",
    "import torch.nn as nn\n",
    "from scripts.Dataset import a2bsDataset\n",
    "from scripts.GrantNet import SimpleBSGen, FaceGenerator, RMSLELoss"
   ]
  },
  {
   "cell_type": "markdown",
   "id": "a4ca3d4d-24cb-40fb-a784-bb5e09d868aa",
   "metadata": {},
   "source": [
    "## Initialize train-eval-test split\n",
    "Set *build_cache=True* to buid cache if it doesn't already exist."
   ]
  },
  {
   "cell_type": "code",
   "execution_count": 2,
   "id": "c1690551-52a6-46f6-9fe1-133776eb2a45",
   "metadata": {
    "tags": []
   },
   "outputs": [
    {
     "name": "stdout",
     "output_type": "stream",
     "text": [
      "Skipping ./datasets/1_wayne_0_111_118.\n",
      "Skipping ./datasets/1_wayne_0_9_16.\n",
      "Skipping ./datasets/1_wayne_0_41_48.\n"
     ]
    }
   ],
   "source": [
    "train_data = a2bsDataset(loader_type='train', mount_dir = '.', data_dir = 'datasets', build_cache=True, map_gb=2, is_win=False, file_cut=15, speaker_id=False)\n",
    "train_loader = torch.utils.data.DataLoader(\n",
    "            train_data, \n",
    "            batch_size=16,  \n",
    "            shuffle=True,  \n",
    "            num_workers=0,\n",
    "            drop_last=True,\n",
    "        )"
   ]
  },
  {
   "cell_type": "code",
   "execution_count": 3,
   "id": "ab74e364-ca58-4e8a-bb35-de3cc4ecf819",
   "metadata": {
    "tags": []
   },
   "outputs": [
    {
     "data": {
      "text/plain": [
       "4277"
      ]
     },
     "execution_count": 3,
     "metadata": {},
     "output_type": "execute_result"
    }
   ],
   "source": [
    "len(train_data)"
   ]
  },
  {
   "cell_type": "code",
   "execution_count": 4,
   "id": "bd7e56c8-2513-4878-b4d5-d67b4514f451",
   "metadata": {
    "tags": []
   },
   "outputs": [],
   "source": [
    "eval_data = a2bsDataset(loader_type='eval', mount_dir = '.', data_dir = 'datasets', build_cache=False,map_gb=1, is_win=False, speaker_id=False)\n",
    "eval_loader = torch.utils.data.DataLoader(\n",
    "            eval_data, \n",
    "            batch_size=16,  \n",
    "            shuffle=True,  \n",
    "            num_workers=0,\n",
    "            drop_last=True,\n",
    "        )"
   ]
  },
  {
   "cell_type": "code",
   "execution_count": 5,
   "id": "9e08a393-9b6a-4fda-a42f-1e4a4318e36a",
   "metadata": {
    "tags": []
   },
   "outputs": [
    {
     "data": {
      "text/plain": [
       "660"
      ]
     },
     "execution_count": 5,
     "metadata": {},
     "output_type": "execute_result"
    }
   ],
   "source": [
    "len(eval_data)"
   ]
  },
  {
   "cell_type": "code",
   "execution_count": 6,
   "id": "36e9f17e-bf6f-446b-b45d-bb8ae6fd604d",
   "metadata": {
    "tags": []
   },
   "outputs": [],
   "source": [
    "in_audio, facial, in_id = next(iter(train_loader))"
   ]
  },
  {
   "cell_type": "code",
   "execution_count": 7,
   "id": "61afad2a-17bd-4579-8dc1-6660a102e859",
   "metadata": {
    "tags": []
   },
   "outputs": [
    {
     "name": "stdout",
     "output_type": "stream",
     "text": [
      "torch.Size([16, 36266]) torch.Size([16, 34, 51]) torch.Size([16, 1])\n"
     ]
    }
   ],
   "source": [
    "print(in_audio.shape, facial.shape, in_id.shape)"
   ]
  },
  {
   "cell_type": "code",
   "execution_count": 8,
   "id": "8df781ee-5f0c-4c6e-b23f-a263024c7c05",
   "metadata": {
    "tags": []
   },
   "outputs": [],
   "source": [
    "net = SimpleBSGen()\n",
    "optimizer = torch.optim.Adam( net.parameters(), lr=1e-3, weight_decay=1e-5)\n",
    "loss_function = RMSLELoss()\n",
    "train_loss = []\n",
    "eval_loss = []"
   ]
  },
  {
   "cell_type": "code",
   "execution_count": 13,
   "id": "37a33cf8-d964-4267-a548-0d33aab49d7a",
   "metadata": {
    "tags": []
   },
   "outputs": [
    {
     "name": "stdout",
     "output_type": "stream",
     "text": [
      "[0][0/267] loss: 0.08659741282463074\n",
      "[0][0/267] eval loss: 0.08501567455326639\n",
      "[0][25/267] loss: 0.09492538869380951\n",
      "[0][50/267] loss: 0.09056497365236282\n",
      "[0][75/267] loss: 0.0903475359082222\n",
      "[0][100/267] loss: 0.08265472203493118\n",
      "[0][100/267] eval loss: 0.08262705512163115\n",
      "[0][125/267] loss: 0.08022276312112808\n",
      "[0][150/267] loss: 0.07850595563650131\n",
      "[0][175/267] loss: 0.08346373587846756\n",
      "[0][200/267] loss: 0.08201456815004349\n",
      "[0][200/267] eval loss: 0.07514943146124119\n",
      "[0][225/267] loss: 0.08847162872552872\n",
      "[0][250/267] loss: 0.08464635908603668\n",
      "[1][0/267] loss: 0.08114269375801086\n",
      "[1][0/267] eval loss: 0.07949143775352617\n",
      "[1][25/267] loss: 0.08955039829015732\n",
      "[1][50/267] loss: 0.08163867145776749\n",
      "[1][75/267] loss: 0.07034145295619965\n",
      "[1][100/267] loss: 0.08132383227348328\n",
      "[1][100/267] eval loss: 0.07563310207390203\n",
      "[1][125/267] loss: 0.07639153301715851\n",
      "[1][150/267] loss: 0.07039858400821686\n",
      "[1][175/267] loss: 0.07430592179298401\n",
      "[1][200/267] loss: 0.07734169065952301\n",
      "[1][200/267] eval loss: 0.07905132668774302\n",
      "[1][225/267] loss: 0.07418060302734375\n",
      "[1][250/267] loss: 0.07103864848613739\n",
      "[2][0/267] loss: 0.07282603532075882\n",
      "[2][0/267] eval loss: 0.07481648881987828\n",
      "[2][25/267] loss: 0.07561308145523071\n",
      "[2][50/267] loss: 0.07482878118753433\n",
      "[2][75/267] loss: 0.07610177248716354\n",
      "[2][100/267] loss: 0.07460834830999374\n",
      "[2][100/267] eval loss: 0.07464876825489648\n",
      "[2][125/267] loss: 0.08068683743476868\n",
      "[2][150/267] loss: 0.06720981746912003\n",
      "[2][175/267] loss: 0.07723376154899597\n",
      "[2][200/267] loss: 0.06775504350662231\n",
      "[2][200/267] eval loss: 0.0728033951869825\n",
      "[2][225/267] loss: 0.06823033094406128\n",
      "[2][250/267] loss: 0.06875450164079666\n",
      "[3][0/267] loss: 0.0687887892127037\n",
      "[3][0/267] eval loss: 0.07614370762574964\n",
      "[3][25/267] loss: 0.06218431517481804\n",
      "[3][50/267] loss: 0.06618671119213104\n",
      "[3][75/267] loss: 0.0684240385890007\n",
      "[3][100/267] loss: 0.07565083354711533\n",
      "[3][100/267] eval loss: 0.075363967658543\n",
      "[3][125/267] loss: 0.07530636340379715\n",
      "[3][150/267] loss: 0.07431940734386444\n",
      "[3][175/267] loss: 0.06456746906042099\n",
      "[3][200/267] loss: 0.0739661380648613\n",
      "[3][200/267] eval loss: 0.0700489466146725\n",
      "[3][225/267] loss: 0.06812986731529236\n",
      "[3][250/267] loss: 0.0667181983590126\n",
      "[4][0/267] loss: 0.06614983826875687\n",
      "[4][0/267] eval loss: 0.06911419931708312\n",
      "[4][25/267] loss: 0.0630495697259903\n",
      "[4][50/267] loss: 0.0667511522769928\n",
      "[4][75/267] loss: 0.06695333868265152\n",
      "[4][100/267] loss: 0.06525702774524689\n",
      "[4][100/267] eval loss: 0.08047781921014553\n",
      "[4][125/267] loss: 0.06572504341602325\n",
      "[4][150/267] loss: 0.0644579529762268\n",
      "[4][175/267] loss: 0.07288583368062973\n",
      "[4][200/267] loss: 0.06924175471067429\n",
      "[4][200/267] eval loss: 0.06849991293942057\n",
      "[4][225/267] loss: 0.07397587597370148\n",
      "[4][250/267] loss: 0.07180863618850708\n"
     ]
    }
   ],
   "source": [
    "num_epochs = 3\n",
    "log_period = 25\n",
    "eval_period = 100\n",
    "\n",
    "for epoch in range(num_epochs):\n",
    "    for it, (in_audio, facial, in_id) in enumerate(train_loader):\n",
    "        net.train()\n",
    "        in_audio = in_audio\n",
    "        facial = facial\n",
    "        pre_frames = 4\n",
    "        in_pre_face = facial.new_zeros((facial.shape[0], facial.shape[1], facial.shape[2] + 1))\n",
    "        in_pre_face[:, 0:pre_frames, :-1] = facial[:, 0:pre_frames]\n",
    "        in_pre_face[:, 0:pre_frames, -1] = 1 \n",
    "        \n",
    "        optimizer.zero_grad()\n",
    "        out_face = net(in_pre_face,in_audio)\n",
    "        loss = loss_function(facial, out_face)\n",
    "        loss.backward()\n",
    "        train_loss.append(loss.item())\n",
    "        optimizer.step()\n",
    "        \n",
    "        #logging\n",
    "        if it % log_period == 0:\n",
    "            print(f'[{epoch}][{it}/{len(train_loader)}] loss: {loss.item()}')\n",
    "        \n",
    "        if it % eval_period == 0:\n",
    "            net.eval()\n",
    "            eval_loss_st = []\n",
    "            for _, (in_audio, facial, in_id) in enumerate(eval_loader):\n",
    "                in_audio = in_audio\n",
    "                facial = facial\n",
    "                pre_frames = 4\n",
    "                in_pre_face = facial.new_zeros((facial.shape[0], facial.shape[1], facial.shape[2] + 1))\n",
    "                in_pre_face[:, 0:pre_frames, :-1] = facial[:, 0:pre_frames]\n",
    "                in_pre_face[:, 0:pre_frames, -1] = 1 \n",
    "\n",
    "                out_face = net(in_pre_face,in_audio)\n",
    "                loss = loss_function(facial, out_face)\n",
    "                eval_loss_st.append(loss.item())\n",
    "            \n",
    "            eval_loss.append(np.average(eval_loss_st))\n",
    "            print(f'[{epoch}][{it}/{len(train_loader)}] eval loss: {np.average(eval_loss_st)}')"
   ]
  },
  {
   "cell_type": "code",
   "execution_count": 14,
   "id": "da09cf4e-d91f-48bb-804e-b5eb5e53e711",
   "metadata": {
    "tags": []
   },
   "outputs": [
    {
     "data": {
      "image/png": "[encoded data removed]",
      "text/plain": [
       "<Figure size 640x480 with 1 Axes>"
      ]
     },
     "metadata": {},
     "output_type": "display_data"
    },
    {
     "data": {
      "image/png": "[encoded data removed]",
      "text/plain": [
       "<Figure size 640x480 with 1 Axes>"
      ]
     },
     "metadata": {},
     "output_type": "display_data"
    }
   ],
   "source": [
    "plt.plot(train_loss)\n",
    "plt.show()\n",
    "plt.plot(eval_loss)\n",
    "plt.show()"
   ]
  },
  {
   "cell_type": "code",
   "execution_count": 24,
   "id": "0b34b4e6-9abc-448a-a9d8-ead0dbff8846",
   "metadata": {},
   "outputs": [
    {
     "data": {
      "text/plain": [
       "<All keys matched successfully>"
      ]
     },
     "execution_count": 24,
     "metadata": {},
     "output_type": "execute_result"
    }
   ],
   "source": [
    "net.load_state_dict(torch.load('ckpt_model/simplenet1.pth', map_location=torch.device('cpu')))"
   ]
  },
  {
   "cell_type": "code",
   "execution_count": 25,
   "id": "2333099c-f3e8-4546-ae57-7e3ae43f2400",
   "metadata": {
    "tags": []
   },
   "outputs": [],
   "source": [
    "net.eval()\n",
    "in_audio, facial, in_id = next(iter(eval_loader))\n",
    "in_audio = in_audio\n",
    "facial = facial\n",
    "pre_frames = 4\n",
    "in_pre_face = facial.new_zeros((facial.shape[0], facial.shape[1], facial.shape[2] + 1))\n",
    "in_pre_face[:, 0:pre_frames, :-1] = facial[:, 0:pre_frames]\n",
    "in_pre_face[:, 0:pre_frames, -1] = 1 \n",
    "out_face = net(in_pre_face, in_audio)"
   ]
  },
  {
   "cell_type": "code",
   "execution_count": 26,
   "id": "3fe2dedf-c4c0-4546-bb01-5ecbb7bdface",
   "metadata": {
    "tags": []
   },
   "outputs": [
    {
     "data": {
      "text/plain": [
       "(torch.Size([16, 34, 51]), torch.Size([16, 34, 51]))"
      ]
     },
     "execution_count": 26,
     "metadata": {},
     "output_type": "execute_result"
    }
   ],
   "source": [
    "out_face.shape, facial.shape"
   ]
  },
  {
   "cell_type": "code",
   "execution_count": 27,
   "id": "8f061314-8b0f-4ec3-b02b-f1555d32f101",
   "metadata": {
    "tags": []
   },
   "outputs": [
    {
     "data": {
      "text/plain": [
       "tensor([0.1781, 0.1712, 0.1755, 0.1824, 0.1780, 0.1749, 0.1759, 0.1780, 0.1705,\n",
       "        0.1581, 0.1561, 0.1560, 0.1507, 0.1884, 0.2248, 0.2488, 0.2682, 0.2727,\n",
       "        0.2677, 0.2565, 0.2345, 0.2055, 0.2164, 0.2204, 0.2087, 0.1896, 0.1800,\n",
       "        0.1888, 0.1998, 0.1999, 0.1833, 0.1706, 0.1836, 0.2051],\n",
       "       grad_fn=<SelectBackward0>)"
      ]
     },
     "execution_count": 27,
     "metadata": {},
     "output_type": "execute_result"
    }
   ],
   "source": [
    "out_face[0,:,7]"
   ]
  },
  {
   "cell_type": "code",
   "execution_count": 28,
   "id": "50e540b0-902a-4047-8e30-8a5dea1f59c5",
   "metadata": {
    "tags": []
   },
   "outputs": [
    {
     "data": {
      "text/plain": [
       "tensor([0.1474, 0.1422, 0.1585, 0.1791, 0.1885, 0.1952, 0.1950, 0.1838, 0.1527,\n",
       "        0.0911, 0.0729, 0.0720, 0.0733, 0.1466, 0.2323, 0.2953, 0.3288, 0.3548,\n",
       "        0.3462, 0.3364, 0.2777, 0.2442, 0.2347, 0.2352, 0.2359, 0.2378, 0.2382,\n",
       "        0.2310, 0.2135, 0.2099, 0.2095, 0.2305, 0.2592, 0.2307])"
      ]
     },
     "execution_count": 28,
     "metadata": {},
     "output_type": "execute_result"
    }
   ],
   "source": [
    "facial[0,:,7]"
   ]
  },
  {
   "cell_type": "code",
   "execution_count": 29,
   "id": "8d120cab-2986-4478-91c5-ce0384bb7a18",
   "metadata": {},
   "outputs": [],
   "source": [
    "torch.save(net.state_dict(), 'ckpt_model/simplenet1.pth')"
   ]
  },
  {
   "cell_type": "markdown",
   "id": "71ec431f-4e4c-438e-8d53-dc808368aaff",
   "metadata": {},
   "source": [
    "## Test set"
   ]
  },
  {
   "cell_type": "code",
   "execution_count": 30,
   "id": "dd2bc966-2b3f-4e68-872c-95cfe5dac2f4",
   "metadata": {},
   "outputs": [],
   "source": [
    "import scipy\n",
    "import math\n",
    "import numpy as np\n",
    "import torch\n",
    "from tqdm import tqdm\n",
    "from scripts.SimpleNet import FaceGenerator"
   ]
  },
  {
   "cell_type": "code",
   "execution_count": 31,
   "id": "6a812175-621f-4df3-b93b-3593c1d5f13d",
   "metadata": {},
   "outputs": [
    {
     "name": "stdout",
     "output_type": "stream",
     "text": [
      "Original sample rate: 22050\n"
     ]
    }
   ],
   "source": [
    "test_audio_file = 'test_audio/out5.wav'\n",
    "sr, test_audio_raw = scipy.io.wavfile.read(test_audio_file) # np array\n",
    "test_audio = test_audio_raw[::sr//16000] # convert to 16khz\n",
    "print('Original sample rate:', sr)"
   ]
  },
  {
   "cell_type": "code",
   "execution_count": 32,
   "id": "2aa084dd-6867-4724-b460-84841974e577",
   "metadata": {
    "tags": []
   },
   "outputs": [
    {
     "data": {
      "text/plain": [
       "225328"
      ]
     },
     "execution_count": 32,
     "metadata": {},
     "output_type": "execute_result"
    }
   ],
   "source": [
    "len(test_audio)"
   ]
  },
  {
   "cell_type": "code",
   "execution_count": 33,
   "id": "9466e335-0464-4030-998b-72cf1ae3c1b0",
   "metadata": {},
   "outputs": [],
   "source": [
    "# need to separate into 32 frames, pass in 4 zeroed starting frames, set stride, do last frame fixes\n",
    "facial_length = 34\n",
    "facial_fps = 15\n",
    "audio_fps = 16000\n",
    "pre_frames = 4\n",
    "stride = 4"
   ]
  },
  {
   "cell_type": "code",
   "execution_count": 34,
   "id": "af0f85d6-cb13-49e9-b45f-eae2477ad37e",
   "metadata": {},
   "outputs": [],
   "source": [
    "net = SimpleBSGen().eval()"
   ]
  },
  {
   "cell_type": "code",
   "execution_count": 35,
   "id": "71834a62-d35d-49e3-b80b-51d48f8463ca",
   "metadata": {},
   "outputs": [
    {
     "ename": "NameError",
     "evalue": "name 'audio_short_length' is not defined",
     "output_type": "error",
     "traceback": [
      "\u001b[0;31m---------------------------------------------------------------------------\u001b[0m",
      "\u001b[0;31mNameError\u001b[0m                                 Traceback (most recent call last)",
      "Cell \u001b[0;32mIn[35], line 2\u001b[0m\n\u001b[1;32m      1\u001b[0m audio_start \u001b[38;5;241m=\u001b[39m \u001b[38;5;241m0\u001b[39m\n\u001b[0;32m----> 2\u001b[0m audio_end \u001b[38;5;241m=\u001b[39m audio_start \u001b[38;5;241m+\u001b[39m \u001b[43maudio_short_length\u001b[49m\n\u001b[1;32m      3\u001b[0m face_start \u001b[38;5;241m=\u001b[39m \u001b[38;5;241m0\u001b[39m\n\u001b[1;32m      4\u001b[0m audio_short_length \u001b[38;5;241m=\u001b[39m math\u001b[38;5;241m.\u001b[39mfloor(facial_length \u001b[38;5;241m/\u001b[39m facial_fps \u001b[38;5;241m*\u001b[39m audio_fps)\n",
      "\u001b[0;31mNameError\u001b[0m: name 'audio_short_length' is not defined"
     ]
    }
   ],
   "source": [
    "audio_start = 0\n",
    "audio_end = audio_start + audio_short_length\n",
    "face_start = 0\n",
    "audio_short_length = math.floor(facial_length / facial_fps * audio_fps)\n",
    "face_cache = np.zeros((1,(len(test_audio) * facial_fps) // audio_fps ,51))\n",
    "with tqdm(total=(face_cache.shape[1]-facial_length)//stride+1) as pbar:\n",
    "    while audio_end < len(test_audio):\n",
    "        in_audio = torch.from_numpy(test_audio[audio_start:audio_end]).view(1,-1).float()\n",
    "        pre_face = torch.from_numpy(face_cache[:,face_start:face_start+facial_length,:]).float()\n",
    "        in_pre_face = pre_face.new_zeros((pre_face.shape[0], pre_face.shape[1], pre_face.shape[2] + 1))\n",
    "        in_pre_face[:, face_start:face_start+pre_frames, :-1] = pre_face[:, face_start:face_start+pre_frames]\n",
    "        in_pre_face[:, face_start:face_start+pre_frames, -1] = 1 \n",
    "        #print(in_pre_face.shape, in_audio.shape)\n",
    "        with torch.no_grad():\n",
    "            out_face = net(in_pre_face, in_audio)\n",
    "\n",
    "        face_cache[:,face_start:face_start+facial_length,:] = out_face.cpu().numpy()\n",
    "    \n",
    "        face_start += stride\n",
    "        audio_start = (face_start*audio_fps)//facial_fps\n",
    "        audio_end = audio_start + audio_short_length\n",
    "        pbar.update(1)"
   ]
  },
  {
   "cell_type": "code",
   "execution_count": 23,
   "id": "3484b6df-72e6-486a-a904-20a2990b456c",
   "metadata": {},
   "outputs": [
    {
     "ename": "NameError",
     "evalue": "name 'face_cache' is not defined",
     "output_type": "error",
     "traceback": [
      "\u001b[0;31m---------------------------------------------------------------------------\u001b[0m",
      "\u001b[0;31mNameError\u001b[0m                                 Traceback (most recent call last)",
      "Cell \u001b[0;32mIn[23], line 1\u001b[0m\n\u001b[0;32m----> 1\u001b[0m \u001b[38;5;28mprint\u001b[39m(\u001b[43mface_cache\u001b[49m[:,\u001b[38;5;241m-\u001b[39m\u001b[38;5;241m2\u001b[39m,:])\n",
      "\u001b[0;31mNameError\u001b[0m: name 'face_cache' is not defined"
     ]
    }
   ],
   "source": [
    "print(face_cache[:,-2,:])"
   ]
  },
  {
   "cell_type": "code",
   "execution_count": null,
   "id": "9bf03bc6",
   "metadata": {},
   "outputs": [],
   "source": []
  },
  {
   "cell_type": "code",
   "execution_count": null,
   "id": "26dfb0c7",
   "metadata": {},
   "outputs": [],
   "source": []
  }
 ],
 "metadata": {
  "kernelspec": {
   "display_name": "Python 3 (ipykernel)",
   "language": "python",
   "name": "python3"
  },
  "language_info": {
   "codemirror_mode": {
    "name": "ipython",
    "version": 3
   },
   "file_extension": ".py",
   "mimetype": "text/x-python",
   "name": "python",
   "nbconvert_exporter": "python",
   "pygments_lexer": "ipython3",
   "version": "3.9.18"
  }
 },
 "nbformat": 4,
 "nbformat_minor": 5
}
