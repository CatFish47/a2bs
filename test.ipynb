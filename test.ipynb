{
 "cells": [
  {
   "cell_type": "markdown",
   "id": "dc67b29f-d99c-44ba-aced-c585297c4582",
   "metadata": {},
   "source": [
    "# Audio2Blendshape test notebook"
   ]
  },
  {
   "cell_type": "code",
   "execution_count": 1,
   "id": "6dad080d-ac1f-4bfe-9ecd-113f0a21dfac",
   "metadata": {},
   "outputs": [
    {
     "name": "stderr",
     "output_type": "stream",
     "text": [
      "/home/tsekai/mambaforge/envs/beat/lib/python3.7/site-packages/tqdm/auto.py:21: TqdmWarning: IProgress not found. Please update jupyter and ipywidgets. See https://ipywidgets.readthedocs.io/en/stable/user_install.html\n",
      "  from .autonotebook import tqdm as notebook_tqdm\n"
     ]
    }
   ],
   "source": [
    "import os\n",
    "import numpy as np\n",
    "import matplotlib.pyplot as plt\n",
    "import torch\n",
    "import torch.nn as nn\n",
    "from scripts.Dataset import a2bsDataset\n",
    "from scripts.SimpleNet import FaceGenerator, RMSLELoss"
   ]
  },
  {
   "cell_type": "markdown",
   "id": "a4ca3d4d-24cb-40fb-a784-bb5e09d868aa",
   "metadata": {},
   "source": [
    "## Initialize train-eval-test split\n",
    "Set *build_cache=True* to buid cache if it doesn't already exist."
   ]
  },
  {
   "cell_type": "code",
   "execution_count": 2,
   "id": "c1690551-52a6-46f6-9fe1-133776eb2a45",
   "metadata": {
    "tags": []
   },
   "outputs": [],
   "source": [
    "train_data = a2bsDataset(loader_type='train', build_cache=False)\n",
    "train_loader = torch.utils.data.DataLoader(\n",
    "            train_data, \n",
    "            batch_size=16,  \n",
    "            shuffle=True,  \n",
    "            num_workers=0,\n",
    "            drop_last=True,\n",
    "        )"
   ]
  },
  {
   "cell_type": "code",
   "execution_count": 3,
   "id": "ab74e364-ca58-4e8a-bb35-de3cc4ecf819",
   "metadata": {
    "tags": []
   },
   "outputs": [
    {
     "data": {
      "text/plain": [
       "6460"
      ]
     },
     "execution_count": 3,
     "metadata": {},
     "output_type": "execute_result"
    }
   ],
   "source": [
    "len(train_data)"
   ]
  },
  {
   "cell_type": "code",
   "execution_count": 4,
   "id": "bd7e56c8-2513-4878-b4d5-d67b4514f451",
   "metadata": {
    "tags": []
   },
   "outputs": [],
   "source": [
    "eval_data = a2bsDataset(loader_type='eval', build_cache=False)\n",
    "eval_loader = torch.utils.data.DataLoader(\n",
    "            eval_data, \n",
    "            batch_size=16,  \n",
    "            shuffle=True,  \n",
    "            num_workers=0,\n",
    "            drop_last=True,\n",
    "        )"
   ]
  },
  {
   "cell_type": "code",
   "execution_count": 5,
   "id": "9e08a393-9b6a-4fda-a42f-1e4a4318e36a",
   "metadata": {
    "tags": []
   },
   "outputs": [
    {
     "data": {
      "text/plain": [
       "1447"
      ]
     },
     "execution_count": 5,
     "metadata": {},
     "output_type": "execute_result"
    }
   ],
   "source": [
    "len(eval_data)"
   ]
  },
  {
   "cell_type": "code",
   "execution_count": 6,
   "id": "36e9f17e-bf6f-446b-b45d-bb8ae6fd604d",
   "metadata": {
    "tags": []
   },
   "outputs": [],
   "source": [
    "in_audio, facial, in_id = next(iter(train_loader))"
   ]
  },
  {
   "cell_type": "code",
   "execution_count": 7,
   "id": "61afad2a-17bd-4579-8dc1-6660a102e859",
   "metadata": {
    "tags": []
   },
   "outputs": [
    {
     "name": "stdout",
     "output_type": "stream",
     "text": [
      "torch.Size([16, 36266]) torch.Size([16, 34, 51]) torch.Size([16, 1])\n"
     ]
    }
   ],
   "source": [
    "print(in_audio.shape, facial.shape, in_id.shape)"
   ]
  },
  {
   "cell_type": "code",
   "execution_count": 8,
   "id": "8df781ee-5f0c-4c6e-b23f-a263024c7c05",
   "metadata": {
    "tags": []
   },
   "outputs": [],
   "source": [
    "net = FaceGenerator().cuda()\n",
    "optimizer = torch.optim.Adam( net.parameters(), lr=1e-3, weight_decay=1e-5)\n",
    "loss_function = RMSLELoss()\n",
    "train_loss = []\n",
    "eval_loss = []"
   ]
  },
  {
   "cell_type": "code",
   "execution_count": 11,
   "id": "37a33cf8-d964-4267-a548-0d33aab49d7a",
   "metadata": {
    "tags": []
   },
   "outputs": [
    {
     "name": "stdout",
     "output_type": "stream",
     "text": [
      "[0][0/403] loss: 0.05984652787446976\n",
      "[0][0/403] eval loss: 0.10455727767613199\n",
      "[0][100/403] loss: 0.05872172862291336\n",
      "[0][200/403] loss: 0.059605248272418976\n",
      "[0][300/403] loss: 0.05729357525706291\n",
      "[0][400/403] loss: 0.05684996396303177\n",
      "[0][400/403] eval loss: 0.07509456297589673\n",
      "[1][0/403] loss: 0.0649331659078598\n",
      "[1][0/403] eval loss: 0.07852075658738614\n",
      "[1][100/403] loss: 0.06454426795244217\n",
      "[1][200/403] loss: 0.06420715898275375\n",
      "[1][300/403] loss: 0.06254617869853973\n",
      "[1][400/403] loss: 0.06478207558393478\n",
      "[1][400/403] eval loss: 0.06823302730917931\n",
      "[2][0/403] loss: 0.06107839569449425\n",
      "[2][0/403] eval loss: 0.07132501287592782\n",
      "[2][100/403] loss: 0.06341008096933365\n",
      "[2][200/403] loss: 0.06438210606575012\n",
      "[2][300/403] loss: 0.054657768458127975\n",
      "[2][400/403] loss: 0.05939015746116638\n",
      "[2][400/403] eval loss: 0.06638879113727146\n",
      "[3][0/403] loss: 0.05323692783713341\n",
      "[3][0/403] eval loss: 0.06984030856854385\n",
      "[3][100/403] loss: 0.0611640103161335\n",
      "[3][200/403] loss: 0.06252032518386841\n",
      "[3][300/403] loss: 0.05866258591413498\n",
      "[3][400/403] loss: 0.06543564051389694\n",
      "[3][400/403] eval loss: 0.11871069255802366\n",
      "[4][0/403] loss: 0.052845388650894165\n",
      "[4][0/403] eval loss: 0.10937868671284781\n",
      "[4][100/403] loss: 0.052770134061574936\n",
      "[4][200/403] loss: 0.05258234962821007\n",
      "[4][300/403] loss: 0.05880243331193924\n",
      "[4][400/403] loss: 0.05845378711819649\n",
      "[4][400/403] eval loss: 0.09133374947640631\n"
     ]
    }
   ],
   "source": [
    "num_epochs = 5\n",
    "log_period = 100\n",
    "eval_period = 400\n",
    "\n",
    "for epoch in range(num_epochs):\n",
    "    for it, (in_audio, facial, in_id) in enumerate(train_loader):\n",
    "        net.train()\n",
    "        in_audio = in_audio.cuda()\n",
    "        facial = facial.cuda()\n",
    "        pre_frames = 4\n",
    "        in_pre_face = facial.new_zeros((facial.shape[0], facial.shape[1], facial.shape[2] + 1)).cuda()\n",
    "        in_pre_face[:, 0:pre_frames, :-1] = facial[:, 0:pre_frames]\n",
    "        in_pre_face[:, 0:pre_frames, -1] = 1 \n",
    "        \n",
    "        optimizer.zero_grad()\n",
    "        out_face = net(in_pre_face,in_audio)\n",
    "        loss = loss_function(facial, out_face)\n",
    "        loss.backward()\n",
    "        train_loss.append(loss.item())\n",
    "        optimizer.step()\n",
    "        \n",
    "        #logging\n",
    "        if it % log_period == 0:\n",
    "            print(f'[{epoch}][{it}/{len(train_loader)}] loss: {loss.item()}')\n",
    "        \n",
    "        if it % eval_period == 0:\n",
    "            net.eval()\n",
    "            eval_loss_st = []\n",
    "            for _, (in_audio, facial, in_id) in enumerate(eval_loader):\n",
    "                in_audio = in_audio.cuda()\n",
    "                facial = facial.cuda()\n",
    "                pre_frames = 4\n",
    "                in_pre_face = facial.new_zeros((facial.shape[0], facial.shape[1], facial.shape[2] + 1)).cuda()\n",
    "                in_pre_face[:, 0:pre_frames, :-1] = facial[:, 0:pre_frames]\n",
    "                in_pre_face[:, 0:pre_frames, -1] = 1 \n",
    "\n",
    "                out_face = net(in_pre_face,in_audio)\n",
    "                loss = loss_function(facial, out_face)\n",
    "                eval_loss_st.append(loss.item())\n",
    "            \n",
    "            eval_loss.append(np.average(eval_loss_st))\n",
    "            print(f'[{epoch}][{it}/{len(train_loader)}] eval loss: {np.average(eval_loss_st)}')"
   ]
  },
  {
   "cell_type": "code",
   "execution_count": 12,
   "id": "da09cf4e-d91f-48bb-804e-b5eb5e53e711",
   "metadata": {
    "tags": []
   },
   "outputs": [
    {
     "data": {
      "image/png": "[encoded data removed]",
      "text/plain": [
       "<Figure size 640x480 with 1 Axes>"
      ]
     },
     "metadata": {},
     "output_type": "display_data"
    },
    {
     "data": {
      "image/png": "[encoded data removed]",
      "text/plain": [
       "<Figure size 640x480 with 1 Axes>"
      ]
     },
     "metadata": {},
     "output_type": "display_data"
    }
   ],
   "source": [
    "plt.plot(train_loss)\n",
    "plt.show()\n",
    "plt.plot(eval_loss)\n",
    "plt.show()"
   ]
  },
  {
   "cell_type": "code",
   "execution_count": 98,
   "id": "2333099c-f3e8-4546-ae57-7e3ae43f2400",
   "metadata": {
    "tags": []
   },
   "outputs": [],
   "source": [
    "net.eval()\n",
    "in_audio, facial, in_id = next(iter(eval_loader))\n",
    "in_audio = in_audio.cuda()\n",
    "facial = facial.cuda()\n",
    "pre_frames = 4\n",
    "in_pre_face = facial.new_zeros((facial.shape[0], facial.shape[1], facial.shape[2] + 1)).cuda()\n",
    "in_pre_face[:, 0:pre_frames, :-1] = facial[:, 0:pre_frames]\n",
    "in_pre_face[:, 0:pre_frames, -1] = 1 \n",
    "out_face = net(in_pre_face, in_audio)"
   ]
  },
  {
   "cell_type": "code",
   "execution_count": 99,
   "id": "3fe2dedf-c4c0-4546-bb01-5ecbb7bdface",
   "metadata": {
    "tags": []
   },
   "outputs": [
    {
     "data": {
      "text/plain": [
       "(torch.Size([1, 34, 51]), torch.Size([1, 34, 51]))"
      ]
     },
     "execution_count": 99,
     "metadata": {},
     "output_type": "execute_result"
    }
   ],
   "source": [
    "out_face.shape, facial.shape"
   ]
  },
  {
   "cell_type": "code",
   "execution_count": 100,
   "id": "8f061314-8b0f-4ec3-b02b-f1555d32f101",
   "metadata": {
    "tags": []
   },
   "outputs": [
    {
     "data": {
      "text/plain": [
       "tensor([0.2166, 0.2283, 0.2397, 0.2315, 0.2428, 0.2493, 0.2504, 0.2541, 0.2573,\n",
       "        0.2609, 0.2718, 0.2830, 0.2924, 0.2983, 0.2963, 0.2858, 0.2360, 0.2100,\n",
       "        0.1918, 0.2012, 0.2473, 0.2794, 0.2949, 0.2902, 0.2707, 0.2000, 0.2018,\n",
       "        0.2292, 0.2660, 0.3031, 0.3274, 0.3392, 0.3476, 0.3398],\n",
       "       device='cuda:0', grad_fn=<SelectBackward0>)"
      ]
     },
     "execution_count": 100,
     "metadata": {},
     "output_type": "execute_result"
    }
   ],
   "source": [
    "out_face[0,:,7]"
   ]
  },
  {
   "cell_type": "code",
   "execution_count": 101,
   "id": "50e540b0-902a-4047-8e30-8a5dea1f59c5",
   "metadata": {
    "tags": []
   },
   "outputs": [
    {
     "data": {
      "text/plain": [
       "tensor([0.2018, 0.1870, 0.1821, 0.1815, 0.1819, 0.1816, 0.1878, 0.1939, 0.1885,\n",
       "        0.1680, 0.1425, 0.1257, 0.1093, 0.0941, 0.0808, 0.0839, 0.1211, 0.1340,\n",
       "        0.1208, 0.1187, 0.1301, 0.1508, 0.1523, 0.1383, 0.1254, 0.1011, 0.0942,\n",
       "        0.1182, 0.1292, 0.1447, 0.1581, 0.1300, 0.0912, 0.0982],\n",
       "       device='cuda:0')"
      ]
     },
     "execution_count": 101,
     "metadata": {},
     "output_type": "execute_result"
    }
   ],
   "source": [
    "facial[0,:,7]"
   ]
  },
  {
   "cell_type": "markdown",
   "id": "71ec431f-4e4c-438e-8d53-dc808368aaff",
   "metadata": {},
   "source": [
    "## Test set"
   ]
  },
  {
   "cell_type": "code",
   "execution_count": 11,
   "id": "6a812175-621f-4df3-b93b-3593c1d5f13d",
   "metadata": {},
   "outputs": [],
   "source": [
    "test_data = a2bsDataset(loader_type='test', build_cache=False)\n",
    "test_loader = torch.utils.data.DataLoader(\n",
    "            test_data, \n",
    "            batch_size=16,  \n",
    "            shuffle=True,  \n",
    "            num_workers=0,\n",
    "            drop_last=True,\n",
    "        )"
   ]
  },
  {
   "cell_type": "code",
   "execution_count": 12,
   "id": "2aa084dd-6867-4724-b460-84841974e577",
   "metadata": {
    "tags": []
   },
   "outputs": [
    {
     "data": {
      "text/plain": [
       "660"
      ]
     },
     "execution_count": 12,
     "metadata": {},
     "output_type": "execute_result"
    }
   ],
   "source": [
    "len(test_data)"
   ]
  }
 ],
 "metadata": {
  "kernelspec": {
   "display_name": "Python 3 (ipykernel)",
   "language": "python",
   "name": "python3"
  },
  "language_info": {
   "codemirror_mode": {
    "name": "ipython",
    "version": 3
   },
   "file_extension": ".py",
   "mimetype": "text/x-python",
   "name": "python",
   "nbconvert_exporter": "python",
   "pygments_lexer": "ipython3",
   "version": "3.7.12"
  }
 },
 "nbformat": 4,
 "nbformat_minor": 5
}
